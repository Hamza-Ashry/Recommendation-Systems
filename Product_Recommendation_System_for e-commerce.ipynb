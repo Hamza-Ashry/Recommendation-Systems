{
 "cells": [
  {
   "cell_type": "code",
   "execution_count": 23,
   "id": "11de95a9",
   "metadata": {},
   "outputs": [
    {
     "name": "stdout",
     "output_type": "stream",
     "text": [
      "(2023070, 4)\n",
      "           UserId   ProductId  Rating   Timestamp\n",
      "0  A39HTATAQ9V7YF  0205616461     5.0  1369699200\n",
      "1  A3JM6GV9MNOF9X  0558925278     3.0  1355443200\n",
      "2  A1Z513UWSAAO0F  0558925278     5.0  1404691200\n",
      "3  A1WMRR494NWEWV  0733001998     4.0  1382572800\n",
      "4  A3IAAVS479H7M7  0737104473     1.0  1274227200\n"
     ]
    }
   ],
   "source": [
    "import pandas as pd\n",
    "import numpy as np \n",
    "import matplotlib.pyplot as plt\n",
    "import seaborn as sns\n",
    "\n",
    "df = pd.read_csv('/home/hamza/Downloads/DataSets/ratings_Beauty.csv')\n",
    "\n",
    "print(df.shape)\n",
    "print(df.head())"
   ]
  },
  {
   "cell_type": "code",
   "execution_count": 14,
   "id": "1d9a9768",
   "metadata": {},
   "outputs": [
    {
     "name": "stdout",
     "output_type": "stream",
     "text": [
      "            Rating\n",
      "ProductId         \n",
      "B001MA0QY2    7533\n",
      "B0009V1YR8    2869\n",
      "B0043OYFKU    2477\n",
      "B0000YUXI0    2143\n",
      "B003V265QW    2088\n",
      "B000ZMBSPE    2041\n",
      "B003BQ6QXK    1918\n",
      "B004OHQR1Q    1885\n",
      "B00121UVU0    1838\n",
      "B000FS05VG    1589\n"
     ]
    }
   ],
   "source": [
    "popular_products = pd.DataFrame(df.groupby('ProductId')['Rating'].count())\n",
    "most_popular = popular_products.sort_values('Rating',ascending = False)\n",
    "print(most_popular.head(10))"
   ]
  },
  {
   "cell_type": "code",
   "execution_count": 22,
   "id": "531bfd95",
   "metadata": {},
   "outputs": [
    {
     "data": {
      "text/plain": [
       "<AxesSubplot:xlabel='ProductId'>"
      ]
     },
     "execution_count": 22,
     "metadata": {},
     "output_type": "execute_result"
    },
    {
     "data": {
      "image/png": "[encoded data removed]",
      "text/plain": [
       "<Figure size 432x288 with 1 Axes>"
      ]
     },
     "metadata": {
      "needs_background": "light"
     },
     "output_type": "display_data"
    }
   ],
   "source": [
    "most_popular.head(30).plot.bar()"
   ]
  },
  {
   "cell_type": "code",
   "execution_count": 32,
   "id": "102aa4c5",
   "metadata": {},
   "outputs": [
    {
     "name": "stdout",
     "output_type": "stream",
     "text": [
      "ProductId              0205616461  0558925278  0733001998  0737104473  \\\n",
      "UserId                                                                  \n",
      "A00205921JHJK5X9LNP42           0           0           0           0   \n",
      "A024581134CV80ZBLIZTZ           0           0           0           0   \n",
      "A03056581JJIOL5FSKJY7           0           0           0           0   \n",
      "A03099101ZRK4K607JVHH           0           0           0           0   \n",
      "A0505229A7NSH3FRXRR4            0           0           0           0   \n",
      "\n",
      "ProductId              0762451459  1304139212  1304139220  130414089X  \\\n",
      "UserId                                                                  \n",
      "A00205921JHJK5X9LNP42           0           0           0           0   \n",
      "A024581134CV80ZBLIZTZ           0           0           0           0   \n",
      "A03056581JJIOL5FSKJY7           0           0           0           0   \n",
      "A03099101ZRK4K607JVHH           0           0           0           0   \n",
      "A0505229A7NSH3FRXRR4            0           0           0           0   \n",
      "\n",
      "ProductId              130414643X  1304146537  ...  B000052YPE  B000052YPF  \\\n",
      "UserId                                         ...                           \n",
      "A00205921JHJK5X9LNP42           0           0  ...           0           0   \n",
      "A024581134CV80ZBLIZTZ           0           0  ...           0           0   \n",
      "A03056581JJIOL5FSKJY7           0           0  ...           0           0   \n",
      "A03099101ZRK4K607JVHH           0           0  ...           0           0   \n",
      "A0505229A7NSH3FRXRR4            0           0  ...           0           0   \n",
      "\n",
      "ProductId              B000052YPG  B000052YPH  B000052YPM  B000052YPU  \\\n",
      "UserId                                                                  \n",
      "A00205921JHJK5X9LNP42           0           0           0           0   \n",
      "A024581134CV80ZBLIZTZ           0           0           0           0   \n",
      "A03056581JJIOL5FSKJY7           0           0           0           0   \n",
      "A03099101ZRK4K607JVHH           0           0           0           0   \n",
      "A0505229A7NSH3FRXRR4            0           0           0           0   \n",
      "\n",
      "ProductId              B000052YPV  B000052YPY  B000052YQ0  B000052YQ2  \n",
      "UserId                                                                 \n",
      "A00205921JHJK5X9LNP42           0           0           0           0  \n",
      "A024581134CV80ZBLIZTZ           0           0           0           0  \n",
      "A03056581JJIOL5FSKJY7           0           0           0           0  \n",
      "A03099101ZRK4K607JVHH           0           0           0           0  \n",
      "A0505229A7NSH3FRXRR4            0           0           0           0  \n",
      "\n",
      "[5 rows x 886 columns]\n",
      "-------------------------------------------------------------------------\n",
      "shape: (9697, 886)\n"
     ]
    }
   ],
   "source": [
    "df_subset = df.head(10000)\n",
    "\n",
    "df_subset_pivot = df_subset.pivot_table(index = 'UserId', columns = 'ProductId', values = 'Rating', fill_value = 0)\n",
    "\n",
    "print(df_subset_pivot.head())\n",
    "print('-------------------------------------------------------------------------')\n",
    "print('shape:',df_subset_pivot.shape)"
   ]
  },
  {
   "cell_type": "code",
   "execution_count": 35,
   "id": "8bd00760",
   "metadata": {},
   "outputs": [
    {
     "name": "stdout",
     "output_type": "stream",
     "text": [
      "(886, 10)\n"
     ]
    }
   ],
   "source": [
    "from sklearn.decomposition import TruncatedSVD\n",
    "\n",
    "X = df_subset_pivot.T\n",
    "\n",
    "SVD = TruncatedSVD(n_components = 10)\n",
    "decomposite_metrix = SVD.fit_transform(X)\n",
    "\n",
    "print(decomposite_metrix.shape)"
   ]
  },
  {
   "cell_type": "code",
   "execution_count": 39,
   "id": "5c12c1fc",
   "metadata": {},
   "outputs": [
    {
     "name": "stdout",
     "output_type": "stream",
     "text": [
      "(886, 886)\n"
     ]
    }
   ],
   "source": [
    "corr_metrix = np.corrcoef(decomposite_metrix)\n",
    "\n",
    "print(corr_metrix.shape)"
   ]
  },
  {
   "cell_type": "code",
   "execution_count": 42,
   "id": "a50a8a13",
   "metadata": {},
   "outputs": [
    {
     "name": "stdout",
     "output_type": "stream",
     "text": [
      "99\n"
     ]
    }
   ],
   "source": [
    "# let customer buys Product ID # 6117036094.\n",
    "\n",
    "names = list(X.index)\n",
    "product_ID = names.index('6117036094')\n",
    "print(product_ID)"
   ]
  },
  {
   "cell_type": "code",
   "execution_count": 44,
   "id": "7a2e8564",
   "metadata": {},
   "outputs": [
    {
     "name": "stdout",
     "output_type": "stream",
     "text": [
      "(886,)\n"
     ]
    }
   ],
   "source": [
    "corr_with_product = corr_metrix[product_ID]\n",
    "\n",
    "print(corr_with_product.shape)"
   ]
  },
  {
   "cell_type": "code",
   "execution_count": 48,
   "id": "c9a99707",
   "metadata": {},
   "outputs": [
    {
     "name": "stdout",
     "output_type": "stream",
     "text": [
      "['0733001998', '0737104473', '0762451459', '1304482634', '1304511073', '1304511081', '1304511138', '1304511146', '1304622193']\n"
     ]
    }
   ],
   "source": [
    "high_corr_with_product = list(X.index[corr_with_product > .90])\n",
    "high_corr_with_product.remove('6117036094')\n",
    "\n",
    "print(high_corr_with_product[0:9])"
   ]
  },
  {
   "cell_type": "code",
   "execution_count": 55,
   "id": "575aa28b",
   "metadata": {},
   "outputs": [],
   "source": [
    "# now we can difine a function that take (Product ID) and return (the most 10 Products IDs) that have high corr.\n",
    "def Recommendation(i):\n",
    "    names = list(X.index)\n",
    "    product_ID = names.index(i)\n",
    "    \n",
    "    corr_with_product = corr_metrix[product_ID]\n",
    "    high_corr_with_product = list(X.index[corr_with_product > .90])\n",
    "    high_corr_with_product.remove(i)\n",
    "    \n",
    "    return high_corr_with_product[0:9]"
   ]
  },
  {
   "cell_type": "code",
   "execution_count": 57,
   "id": "2d93f3e9",
   "metadata": {},
   "outputs": [
    {
     "data": {
      "text/plain": [
       "['0733001998',\n",
       " '0737104473',\n",
       " '0762451459',\n",
       " '1304511073',\n",
       " '1304511081',\n",
       " '1304511138',\n",
       " '1304511146',\n",
       " '1304622193',\n",
       " '1304622223']"
      ]
     },
     "execution_count": 57,
     "metadata": {},
     "output_type": "execute_result"
    }
   ],
   "source": [
    "Recommendation('1304482634')"
   ]
  },
  {
   "cell_type": "markdown",
   "id": "5ef10f12",
   "metadata": {},
   "source": [
    "## Applicable when business is setting up its E-commerce website for the first time"
   ]
  },
  {
   "cell_type": "code",
   "execution_count": 66,
   "id": "2799a875",
   "metadata": {},
   "outputs": [
    {
     "name": "stdout",
     "output_type": "stream",
     "text": [
      "   product_uid                                product_description\n",
      "0       100001  Not only do angles make joints stronger, they ...\n",
      "1       100002  BEHR Premium Textured DECKOVER is an innovativ...\n",
      "2       100003  Classic architecture meets contemporary design...\n",
      "3       100004  The Grape Solar 265-Watt Polycrystalline PV So...\n",
      "4       100005  Update your bathroom with the Delta Vero Singl...\n",
      "-----------------------------------------------------------------\n",
      "(124428, 2)\n"
     ]
    }
   ],
   "source": [
    "from sklearn.feature_extraction.text import TfidfVectorizer\n",
    "from sklearn.cluster import KMeans\n",
    "\n",
    "df = pd.read_csv('/home/hamza/Downloads/DataSets/product_descriptions.csv')\n",
    "\n",
    "print(df.head())\n",
    "print('-----------------------------------------------------------------')\n",
    "print(df.shape)"
   ]
  },
  {
   "cell_type": "code",
   "execution_count": 95,
   "id": "64462639",
   "metadata": {},
   "outputs": [],
   "source": [
    "df_subset = df.head(500)\n",
    "\n",
    "tfidf = TfidfVectorizer(stop_words = 'english')\n",
    "X = tfidf.fit_transform(df_subset['product_description'])\n",
    "plt.show()"
   ]
  },
  {
   "cell_type": "code",
   "execution_count": 96,
   "id": "708d56eb",
   "metadata": {},
   "outputs": [
    {
     "data": {
      "image/png": "[encoded data removed]",
      "text/plain": [
       "<Figure size 432x288 with 1 Axes>"
      ]
     },
     "metadata": {
      "needs_background": "light"
     },
     "output_type": "display_data"
    }
   ],
   "source": [
    "kmeans = KMeans(n_clusters = 10)\n",
    "kmeans_y = kmeans.fit_predict(X)\n",
    "\n",
    "plt.plot(kmeans_y, '.')\n",
    "plt.show()"
   ]
  },
  {
   "cell_type": "code",
   "execution_count": 97,
   "id": "9661e27e",
   "metadata": {},
   "outputs": [
    {
     "name": "stdout",
     "output_type": "stream",
     "text": [
      "most terms per clusters: \n",
      "cluster:0\n",
      "metal\n",
      "tap\n",
      "drill\n",
      "barrel\n",
      "hex\n",
      "point\n",
      "gauge\n",
      "steam\n",
      "fastening\n",
      "thicker\n",
      "cluster:1\n",
      "air\n",
      "light\n",
      "ft\n",
      "power\n",
      "use\n",
      "installation\n",
      "control\n",
      "fan\n",
      "led\n",
      "provides\n",
      "cluster:2\n",
      "wood\n",
      "wall\n",
      "outdoor\n",
      "use\n",
      "ft\n",
      "vary\n",
      "finish\n",
      "tape\n",
      "indoor\n",
      "tile\n",
      "cluster:3\n",
      "toilet\n",
      "flush\n",
      "bowl\n",
      "gal\n",
      "water\n",
      "piece\n",
      "watering\n",
      "offers\n",
      "design\n",
      "azek\n",
      "cluster:4\n",
      "water\n",
      "heater\n",
      "tank\n",
      "year\n",
      "easy\n",
      "valve\n",
      "warranty\n",
      "gas\n",
      "volt\n",
      "snow\n",
      "cluster:5\n",
      "insulation\n",
      "ladder\n",
      "cover\n",
      "attic\n",
      "door\n",
      "frame\n",
      "fiberglass\n",
      "easy\n",
      "roller\n",
      "pull\n",
      "cluster:6\n",
      "cutting\n",
      "saw\n",
      "tool\n",
      "motor\n",
      "power\n",
      "blade\n",
      "guard\n",
      "grip\n",
      "steel\n",
      "amp\n",
      "cluster:7\n",
      "storage\n",
      "shelves\n",
      "easy\n",
      "lbs\n",
      "adjustable\n",
      "duty\n",
      "steel\n",
      "heavy\n",
      "finish\n",
      "shelf\n",
      "cluster:8\n",
      "patio\n",
      "frame\n",
      "bronze\n",
      "fabric\n",
      "collection\n",
      "dining\n",
      "cushions\n",
      "canopy\n",
      "wicker\n",
      "base\n",
      "cluster:9\n",
      "natural\n",
      "bamboo\n",
      "window\n",
      "shades\n",
      "wood\n",
      "privacy\n",
      "ft\n",
      "fencing\n",
      "size\n",
      "order\n"
     ]
    },
    {
     "name": "stderr",
     "output_type": "stream",
     "text": [
      "/home/hamza/.local/lib/python3.8/site-packages/sklearn/utils/deprecation.py:87: FutureWarning: Function get_feature_names is deprecated; get_feature_names is deprecated in 1.0 and will be removed in 1.2. Please use get_feature_names_out instead.\n",
      "  warnings.warn(msg, category=FutureWarning)\n"
     ]
    }
   ],
   "source": [
    "# optimal cluster\n",
    "\n",
    "def print_clusters(i):\n",
    "    print('cluster:'+ str(i))\n",
    "    for c in centers[i, :10]:\n",
    "        print(terms[c])\n",
    "        \n",
    "model = KMeans(n_clusters = 10 ,init='k-means++', max_iter=100, n_init=1, random_state = 0)\n",
    "model.fit(X)\n",
    "\n",
    "centers = model.cluster_centers_.argsort()[:, ::-1]\n",
    "terms = tfidf.get_feature_names()\n",
    "\n",
    "print('most terms per clusters: ')\n",
    "for i in range(10):\n",
    "    print_clusters(i)"
   ]
  },
  {
   "cell_type": "code",
   "execution_count": 98,
   "id": "9c9808ca",
   "metadata": {},
   "outputs": [],
   "source": [
    "def Show_Recommendation(product):\n",
    "    \n",
    "    product = tfidf.transform([product])\n",
    "    prediction = model.predict(product) \n",
    "    \n",
    "    return print_clusters(prediction[0])"
   ]
  },
  {
   "cell_type": "code",
   "execution_count": 99,
   "id": "e03990e4",
   "metadata": {},
   "outputs": [
    {
     "name": "stdout",
     "output_type": "stream",
     "text": [
      "cluster:9\n",
      "natural\n",
      "bamboo\n",
      "window\n",
      "shades\n",
      "wood\n",
      "privacy\n",
      "ft\n",
      "fencing\n",
      "size\n",
      "order\n"
     ]
    }
   ],
   "source": [
    "Show_Recommendation('window')"
   ]
  },
  {
   "cell_type": "code",
   "execution_count": 91,
   "id": "a5a1a2f8",
   "metadata": {},
   "outputs": [
    {
     "name": "stdout",
     "output_type": "stream",
     "text": [
      "cluster:4\n",
      "water\n",
      "heater\n",
      "tank\n",
      "year\n",
      "easy\n",
      "valve\n",
      "warranty\n",
      "gas\n",
      "volt\n",
      "snow\n"
     ]
    }
   ],
   "source": [
    "Show_Recommendation('warranty')"
   ]
  },
  {
   "cell_type": "code",
   "execution_count": null,
   "id": "b1733c4e",
   "metadata": {},
   "outputs": [],
   "source": []
  }
 ],
 "metadata": {
  "kernelspec": {
   "display_name": "Python 3",
   "language": "python",
   "name": "python3"
  },
  "language_info": {
   "codemirror_mode": {
    "name": "ipython",
    "version": 3
   },
   "file_extension": ".py",
   "mimetype": "text/x-python",
   "name": "python",
   "nbconvert_exporter": "python",
   "pygments_lexer": "ipython3",
   "version": "3.8.10"
  }
 },
 "nbformat": 4,
 "nbformat_minor": 5
}
