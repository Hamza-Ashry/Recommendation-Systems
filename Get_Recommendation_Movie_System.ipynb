{
 "cells": [
  {
   "cell_type": "code",
   "execution_count": 38,
   "id": "d4f309c0",
   "metadata": {},
   "outputs": [
    {
     "name": "stdout",
     "output_type": "stream",
     "text": [
      "(4803, 23)\n",
      "Index(['budget', 'genres', 'homepage', 'id', 'keywords', 'original_language',\n",
      "       'original_title', 'overview', 'popularity', 'production_companies',\n",
      "       'production_countries', 'release_date', 'revenue', 'runtime',\n",
      "       'spoken_languages', 'status', 'tagline', 'title', 'vote_average',\n",
      "       'vote_count', 'tittle', 'cast', 'crew'],\n",
      "      dtype='object')\n"
     ]
    }
   ],
   "source": [
    "import pandas as pd \n",
    "import numpy as np \n",
    "import matplotlib.pyplot as plt\n",
    "import seaborn as sns\n",
    "import warnings\n",
    "warnings.filterwarnings('ignore')\n",
    "\n",
    "credits = pd.read_csv('/home/hamza/Downloads/DataSets/tmdb_5000_credits.csv')\n",
    "movies = pd.read_csv('/home/hamza/Downloads/DataSets/tmdb_5000_movies.csv')\n",
    "\n",
    "credits.columns = ['id','tittle','cast','crew']\n",
    "\n",
    "df = movies.merge(credits, on = 'id')\n",
    "\n",
    "print(df.shape)\n",
    "print(df.columns)"
   ]
  },
  {
   "cell_type": "markdown",
   "id": "8a64e313",
   "metadata": {},
   "source": [
    "#                                     Demographic Filtering"
   ]
  },
  {
   "cell_type": "markdown",
   "id": "b91513a8",
   "metadata": {},
   "source": [
    "we will use (weighted rating) witch is counted by the following formula:\n",
    "\n",
    "    WR = (((v / (v + m))) * R) + (((m / (m + v))) * C)\n",
    "\n",
    "where:\n",
    "\n",
    "    v is the number of votes for the movie.\n",
    "    \n",
    "    m is the minimum votes required to be listed in the chart.\n",
    "    \n",
    "    R is the average rating of the movie.\n",
    "    \n",
    "    C is the mean vote across the whole report."
   ]
  },
  {
   "cell_type": "code",
   "execution_count": 2,
   "id": "3f541337",
   "metadata": {},
   "outputs": [],
   "source": [
    "C = df['vote_average'].mean()\n",
    "R = df['vote_average']\n",
    "m = df['vote_count'].quantile(0.9)\n",
    "v = df['vote_count']"
   ]
  },
  {
   "cell_type": "code",
   "execution_count": 3,
   "id": "990f1833",
   "metadata": {},
   "outputs": [
    {
     "data": {
      "text/plain": [
       "(481, 23)"
      ]
     },
     "execution_count": 3,
     "metadata": {},
     "output_type": "execute_result"
    }
   ],
   "source": [
    "q_movies = df[df['vote_count'] >= m]\n",
    "q_movies.shape"
   ]
  },
  {
   "cell_type": "code",
   "execution_count": 4,
   "id": "43136160",
   "metadata": {},
   "outputs": [],
   "source": [
    "def weighted_rating(x, m=m, C=C):\n",
    "    v = x['vote_count']\n",
    "    R = x['vote_average']\n",
    "    # Calculation based on the IMDB formula\n",
    "    return (v/(v+m) * R) + (m/(m+v) * C)"
   ]
  },
  {
   "cell_type": "code",
   "execution_count": 5,
   "id": "7c23f58f",
   "metadata": {},
   "outputs": [],
   "source": [
    "# Define a new feature 'score' and calculate its value with `weighted_rating()`\n",
    "q_movies['score'] = q_movies.apply(weighted_rating, axis=1)"
   ]
  },
  {
   "cell_type": "code",
   "execution_count": 6,
   "id": "d6255b78",
   "metadata": {},
   "outputs": [
    {
     "name": "stdout",
     "output_type": "stream",
     "text": [
      "                         title  vote_count  vote_average     score\n",
      "1881  The Shawshank Redemption        8205           8.5  8.059258\n",
      "662                 Fight Club        9413           8.3  7.939256\n",
      "65             The Dark Knight       12002           8.2  7.920020\n",
      "3232              Pulp Fiction        8428           8.3  7.904645\n",
      "96                   Inception       13752           8.1  7.863239\n",
      "3337             The Godfather        5893           8.4  7.851236\n",
      "95                Interstellar       10867           8.1  7.809479\n",
      "809               Forrest Gump        7927           8.2  7.803188\n"
     ]
    }
   ],
   "source": [
    "q_movies = q_movies.sort_values('score', ascending = False)\n",
    "print(q_movies[['title', 'vote_count', 'vote_average', 'score']].head(8))"
   ]
  },
  {
   "cell_type": "code",
   "execution_count": 7,
   "id": "53a33e72",
   "metadata": {},
   "outputs": [
    {
     "data": {
      "image/png": "[encoded data removed]",
      "text/plain": [
       "<Figure size 432x288 with 1 Axes>"
      ]
     },
     "metadata": {
      "needs_background": "light"
     },
     "output_type": "display_data"
    }
   ],
   "source": [
    "pop = df.sort_values('popularity', ascending = False)\n",
    "plt.barh(pop['title'].head(8), pop['popularity'].head(8))\n",
    "plt.title(\"Popular Movies\")\n",
    "plt.xlabel('popularity')\n",
    "plt.ylabel('title')\n",
    "plt.show()"
   ]
  },
  {
   "cell_type": "markdown",
   "id": "fcaad943",
   "metadata": {},
   "source": [
    "# Content Based Filtering"
   ]
  },
  {
   "cell_type": "markdown",
   "id": "ea2a47d9",
   "metadata": {},
   "source": [
    "###                                          by movies Describtions"
   ]
  },
  {
   "cell_type": "code",
   "execution_count": 8,
   "id": "f3df64ac",
   "metadata": {},
   "outputs": [
    {
     "name": "stdout",
     "output_type": "stream",
     "text": [
      "0    In the 22nd century, a paraplegic Marine is di...\n",
      "1    Captain Barbossa, long believed to be dead, ha...\n",
      "2    A cryptic message from Bond’s past sends him o...\n",
      "3    Following the death of District Attorney Harve...\n",
      "4    John Carter is a war-weary, former military ca...\n",
      "Name: overview, dtype: object\n"
     ]
    }
   ],
   "source": [
    "print(df['overview'].head())"
   ]
  },
  {
   "cell_type": "code",
   "execution_count": 9,
   "id": "540808b3",
   "metadata": {},
   "outputs": [
    {
     "name": "stdout",
     "output_type": "stream",
     "text": [
      "(4803, 20978)\n"
     ]
    }
   ],
   "source": [
    "from sklearn.feature_extraction.text import TfidfVectorizer\n",
    "\n",
    "df['overview'] = df['overview'].fillna('')\n",
    "\n",
    "tfidf = TfidfVectorizer(stop_words = 'english')\n",
    "tfidf_metrix = tfidf.fit_transform(df['overview']) \n",
    "\n",
    "print(tfidf_metrix.shape)"
   ]
  },
  {
   "cell_type": "code",
   "execution_count": 10,
   "id": "d627fa2e",
   "metadata": {},
   "outputs": [],
   "source": [
    "from sklearn.metrics.pairwise import linear_kernel\n",
    "\n",
    "similar_1 = linear_kernel(tfidf_metrix, tfidf_metrix)"
   ]
  },
  {
   "cell_type": "code",
   "execution_count": 11,
   "id": "2373b09f",
   "metadata": {},
   "outputs": [],
   "source": [
    "indices = pd.Series(df.index, index = df['title'])"
   ]
  },
  {
   "cell_type": "code",
   "execution_count": 12,
   "id": "1d03fa67",
   "metadata": {},
   "outputs": [],
   "source": [
    "def Get_Recommendations(title, similar):\n",
    "    \n",
    "    idx = indices[title]\n",
    "    sim_movies = list(enumerate(similar[idx]))\n",
    "    sorted_sim_movies = sorted(sim_movies, key = lambda x: x[1], reverse = True)\n",
    "    sorted_sim_movies = sorted_sim_movies[1:11]\n",
    "    movies_indices = [i[0] for i in sorted_sim_movies]\n",
    "    \n",
    "    return df['title'].iloc[movies_indices]"
   ]
  },
  {
   "cell_type": "code",
   "execution_count": 13,
   "id": "1b3047fc",
   "metadata": {},
   "outputs": [
    {
     "data": {
      "text/plain": [
       "65                              The Dark Knight\n",
       "299                              Batman Forever\n",
       "428                              Batman Returns\n",
       "1359                                     Batman\n",
       "3854    Batman: The Dark Knight Returns, Part 2\n",
       "119                               Batman Begins\n",
       "2507                                  Slow Burn\n",
       "9            Batman v Superman: Dawn of Justice\n",
       "1181                                        JFK\n",
       "210                              Batman & Robin\n",
       "Name: title, dtype: object"
      ]
     },
     "execution_count": 13,
     "metadata": {},
     "output_type": "execute_result"
    }
   ],
   "source": [
    "Get_Recommendations('The Dark Knight Rises', similar_1)"
   ]
  },
  {
   "cell_type": "code",
   "execution_count": 14,
   "id": "5fd6d0f7",
   "metadata": {},
   "outputs": [
    {
     "data": {
      "text/plain": [
       "7               Avengers: Age of Ultron\n",
       "3144                            Plastic\n",
       "1715                            Timecop\n",
       "4124                 This Thing of Ours\n",
       "3311              Thank You for Smoking\n",
       "3033                      The Corruptor\n",
       "588     Wall Street: Money Never Sleeps\n",
       "2136         Team America: World Police\n",
       "1468                       The Fountain\n",
       "1286                        Snowpiercer\n",
       "Name: title, dtype: object"
      ]
     },
     "execution_count": 14,
     "metadata": {},
     "output_type": "execute_result"
    }
   ],
   "source": [
    "Get_Recommendations('The Avengers', similar_1)"
   ]
  },
  {
   "cell_type": "markdown",
   "id": "8a53e2a6",
   "metadata": {},
   "source": [
    "###                  The 3 top actors, the director, related genres and the movie plot keywords."
   ]
  },
  {
   "cell_type": "code",
   "execution_count": 15,
   "id": "522d6987",
   "metadata": {},
   "outputs": [],
   "source": [
    "from ast import literal_eval\n",
    "\n",
    "features = ['cast', 'crew', 'keywords', 'genres']\n",
    "for feature in features:\n",
    "    df[feature] = df[feature].apply(literal_eval)"
   ]
  },
  {
   "cell_type": "code",
   "execution_count": 16,
   "id": "7e835b4c",
   "metadata": {},
   "outputs": [],
   "source": [
    "def get_director(x):\n",
    "    \n",
    "    for i in x:\n",
    "        if i['job'] == 'Director':\n",
    "            return i['name']\n",
    "    return np.nan\n",
    "\n",
    "def get_list(x):\n",
    "    \n",
    "    if isinstance(x, list):\n",
    "        names = [i['name'] for i in x]\n",
    "        if len(names) > 3:\n",
    "            names = names[:3]\n",
    "        return names\n",
    "    return []"
   ]
  },
  {
   "cell_type": "code",
   "execution_count": 17,
   "id": "cfb7aa89",
   "metadata": {},
   "outputs": [],
   "source": [
    "df['director'] = df['crew'].apply(get_director)\n",
    "\n",
    "features = ['cast', 'keywords', 'genres']\n",
    "for feature in features:\n",
    "    df[feature] = df[feature].apply(get_list)"
   ]
  },
  {
   "cell_type": "code",
   "execution_count": 18,
   "id": "558348ce",
   "metadata": {},
   "outputs": [
    {
     "data": {
      "text/html": [
       "<div>\n",
       "<style scoped>\n",
       "    .dataframe tbody tr th:only-of-type {\n",
       "        vertical-align: middle;\n",
       "    }\n",
       "\n",
       "    .dataframe tbody tr th {\n",
       "        vertical-align: top;\n",
       "    }\n",
       "\n",
       "    .dataframe thead th {\n",
       "        text-align: right;\n",
       "    }\n",
       "</style>\n",
       "<table border=\"1\" class=\"dataframe\">\n",
       "  <thead>\n",
       "    <tr style=\"text-align: right;\">\n",
       "      <th></th>\n",
       "      <th>title</th>\n",
       "      <th>cast</th>\n",
       "      <th>director</th>\n",
       "      <th>keywords</th>\n",
       "      <th>genres</th>\n",
       "    </tr>\n",
       "  </thead>\n",
       "  <tbody>\n",
       "    <tr>\n",
       "      <th>0</th>\n",
       "      <td>Avatar</td>\n",
       "      <td>[Sam Worthington, Zoe Saldana, Sigourney Weaver]</td>\n",
       "      <td>James Cameron</td>\n",
       "      <td>[culture clash, future, space war]</td>\n",
       "      <td>[Action, Adventure, Fantasy]</td>\n",
       "    </tr>\n",
       "    <tr>\n",
       "      <th>1</th>\n",
       "      <td>Pirates of the Caribbean: At World's End</td>\n",
       "      <td>[Johnny Depp, Orlando Bloom, Keira Knightley]</td>\n",
       "      <td>Gore Verbinski</td>\n",
       "      <td>[ocean, drug abuse, exotic island]</td>\n",
       "      <td>[Adventure, Fantasy, Action]</td>\n",
       "    </tr>\n",
       "    <tr>\n",
       "      <th>2</th>\n",
       "      <td>Spectre</td>\n",
       "      <td>[Daniel Craig, Christoph Waltz, Léa Seydoux]</td>\n",
       "      <td>Sam Mendes</td>\n",
       "      <td>[spy, based on novel, secret agent]</td>\n",
       "      <td>[Action, Adventure, Crime]</td>\n",
       "    </tr>\n",
       "  </tbody>\n",
       "</table>\n",
       "</div>"
      ],
      "text/plain": [
       "                                      title  \\\n",
       "0                                    Avatar   \n",
       "1  Pirates of the Caribbean: At World's End   \n",
       "2                                   Spectre   \n",
       "\n",
       "                                               cast        director  \\\n",
       "0  [Sam Worthington, Zoe Saldana, Sigourney Weaver]   James Cameron   \n",
       "1     [Johnny Depp, Orlando Bloom, Keira Knightley]  Gore Verbinski   \n",
       "2      [Daniel Craig, Christoph Waltz, Léa Seydoux]      Sam Mendes   \n",
       "\n",
       "                              keywords                        genres  \n",
       "0   [culture clash, future, space war]  [Action, Adventure, Fantasy]  \n",
       "1   [ocean, drug abuse, exotic island]  [Adventure, Fantasy, Action]  \n",
       "2  [spy, based on novel, secret agent]    [Action, Adventure, Crime]  "
      ]
     },
     "execution_count": 18,
     "metadata": {},
     "output_type": "execute_result"
    }
   ],
   "source": [
    "df[['title', 'cast', 'director', 'keywords', 'genres']].head(3)"
   ]
  },
  {
   "cell_type": "code",
   "execution_count": 19,
   "id": "fec534dd",
   "metadata": {},
   "outputs": [],
   "source": [
    "def clean_data(x):\n",
    "    \n",
    "    if isinstance(x, list):\n",
    "        return [str.lower(i.replace(' ', '')) for i in x]\n",
    "    elif isinstance(x, str):\n",
    "        return str.lower(x.replace(' ', ''))\n",
    "    else:\n",
    "        return ''\n",
    "        "
   ]
  },
  {
   "cell_type": "code",
   "execution_count": 20,
   "id": "c18a7912",
   "metadata": {},
   "outputs": [],
   "source": [
    "features = ['cast', 'keywords', 'director', 'genres']\n",
    "\n",
    "for feature in features:\n",
    "    df[feature] = df[feature].apply(clean_data)"
   ]
  },
  {
   "cell_type": "code",
   "execution_count": 21,
   "id": "97b59da0",
   "metadata": {},
   "outputs": [],
   "source": [
    "def create_soup(x):\n",
    "    return ' '.join(x['keywords']) + ' ' + ' '.join(x['cast']) + ' ' + x['director'] + ' ' + ' '.join(x['genres'])\n",
    "\n",
    "df['soup'] = df.apply(create_soup, axis=1)"
   ]
  },
  {
   "cell_type": "code",
   "execution_count": 22,
   "id": "6f2f8159",
   "metadata": {},
   "outputs": [
    {
     "name": "stdout",
     "output_type": "stream",
     "text": [
      "(4803, 11520)\n"
     ]
    }
   ],
   "source": [
    "from sklearn.feature_extraction.text import CountVectorizer\n",
    "\n",
    "cv = CountVectorizer(stop_words = 'english')\n",
    "cv_metrix = cv.fit_transform(df['soup'])\n",
    "\n",
    "print(cv_metrix.shape)"
   ]
  },
  {
   "cell_type": "code",
   "execution_count": 23,
   "id": "d1341eb7",
   "metadata": {},
   "outputs": [],
   "source": [
    "from sklearn.metrics.pairwise import cosine_similarity\n",
    "\n",
    "similar_2 = cosine_similarity(cv_metrix, cv_metrix)"
   ]
  },
  {
   "cell_type": "code",
   "execution_count": 24,
   "id": "332cdb53",
   "metadata": {},
   "outputs": [],
   "source": [
    "indices = pd.Series(df.index, index = df['title'])"
   ]
  },
  {
   "cell_type": "code",
   "execution_count": 25,
   "id": "5f512380",
   "metadata": {},
   "outputs": [
    {
     "data": {
      "text/plain": [
       "65               The Dark Knight\n",
       "119                Batman Begins\n",
       "4638    Amidst the Devil's Wings\n",
       "1196                The Prestige\n",
       "3073           Romeo Is Bleeding\n",
       "3326              Black November\n",
       "1503                      Takers\n",
       "1986                      Faster\n",
       "303                     Catwoman\n",
       "747               Gangster Squad\n",
       "Name: title, dtype: object"
      ]
     },
     "execution_count": 25,
     "metadata": {},
     "output_type": "execute_result"
    }
   ],
   "source": [
    "Get_Recommendations('The Dark Knight Rises', similar_2)"
   ]
  },
  {
   "cell_type": "code",
   "execution_count": 26,
   "id": "2152de6f",
   "metadata": {},
   "outputs": [
    {
     "data": {
      "text/plain": [
       "867      The Godfather: Part III\n",
       "2731      The Godfather: Part II\n",
       "4638    Amidst the Devil's Wings\n",
       "2649           The Son of No One\n",
       "1525              Apocalypse Now\n",
       "1018             The Cotton Club\n",
       "1170     The Talented Mr. Ripley\n",
       "1209               The Rainmaker\n",
       "1394               Donnie Brasco\n",
       "1850                    Scarface\n",
       "Name: title, dtype: object"
      ]
     },
     "execution_count": 26,
     "metadata": {},
     "output_type": "execute_result"
    }
   ],
   "source": [
    "Get_Recommendations('The Godfather', similar_2)"
   ]
  },
  {
   "cell_type": "markdown",
   "id": "575aafd7",
   "metadata": {},
   "source": [
    "# Collaborative Filtering"
   ]
  },
  {
   "cell_type": "code",
   "execution_count": 29,
   "id": "33c7dbb9",
   "metadata": {},
   "outputs": [
    {
     "name": "stdout",
     "output_type": "stream",
     "text": [
      "   user_id  item_id  rating  timestamp\n",
      "0        0       50       5  881250949\n",
      "1        0      172       5  881250949\n",
      "2        0      133       1  881250949\n",
      "3      196      242       3  881250949\n",
      "4      186      302       3  891717742\n"
     ]
    }
   ],
   "source": [
    "col_names = ['user_id', 'item_id', 'rating', 'timestamp']\n",
    "movies_ratings = pd.read_csv('/home/hamza/Downloads/DataSets/movies_ratings.csv', sep = '\\t', names = col_names)\n",
    "\n",
    "print(movies_ratings.head())"
   ]
  },
  {
   "cell_type": "code",
   "execution_count": 30,
   "id": "f2a53a31",
   "metadata": {},
   "outputs": [
    {
     "name": "stdout",
     "output_type": "stream",
     "text": [
      "   item_id              title\n",
      "0        1   Toy Story (1995)\n",
      "1        2   GoldenEye (1995)\n",
      "2        3  Four Rooms (1995)\n",
      "3        4  Get Shorty (1995)\n",
      "4        5     Copycat (1995)\n"
     ]
    }
   ],
   "source": [
    "movies_id_title = pd.read_csv('/home/hamza/Downloads/DataSets/movies_id_title.csv')\n",
    "\n",
    "print(movies_id_title.head())"
   ]
  },
  {
   "cell_type": "code",
   "execution_count": 49,
   "id": "b83757fe",
   "metadata": {},
   "outputs": [
    {
     "name": "stdout",
     "output_type": "stream",
     "text": [
      "   user_id  item_id  rating  timestamp             title\n",
      "0        0       50       5  881250949  Star Wars (1977)\n",
      "1      290       50       5  880473582  Star Wars (1977)\n",
      "2       79       50       4  891271545  Star Wars (1977)\n",
      "3        2       50       5  888552084  Star Wars (1977)\n",
      "4        8       50       5  879362124  Star Wars (1977)\n"
     ]
    }
   ],
   "source": [
    "df = pd.merge(movies_ratings, movies_id_title, on = 'item_id')\n",
    "\n",
    "print(df.head())"
   ]
  },
  {
   "cell_type": "code",
   "execution_count": 50,
   "id": "6273c361",
   "metadata": {},
   "outputs": [
    {
     "name": "stdout",
     "output_type": "stream",
     "text": [
      "title\n",
      "They Made Me a Criminal (1939)                5.0\n",
      "Marlene Dietrich: Shadow and Light (1996)     5.0\n",
      "Saint of Fort Washington, The (1993)          5.0\n",
      "Someone Else's America (1995)                 5.0\n",
      "Star Kid (1997)                               5.0\n",
      "Name: rating, dtype: float64\n"
     ]
    }
   ],
   "source": [
    "print(df.groupby('title')['rating'].mean().sort_values(ascending = False).head())"
   ]
  },
  {
   "cell_type": "code",
   "execution_count": 51,
   "id": "3f3ad426",
   "metadata": {},
   "outputs": [
    {
     "name": "stdout",
     "output_type": "stream",
     "text": [
      "title\n",
      "Star Wars (1977)             584\n",
      "Contact (1997)               509\n",
      "Fargo (1996)                 508\n",
      "Return of the Jedi (1983)    507\n",
      "Liar Liar (1997)             485\n",
      "Name: rating, dtype: int64\n"
     ]
    }
   ],
   "source": [
    "print(df.groupby('title')['rating'].count().sort_values(ascending = False).head())"
   ]
  },
  {
   "cell_type": "code",
   "execution_count": 52,
   "id": "99084f12",
   "metadata": {},
   "outputs": [
    {
     "name": "stdout",
     "output_type": "stream",
     "text": [
      "                                         rating  num_ratings\n",
      "title                                                       \n",
      "'Til There Was You (1997)              2.333333            9\n",
      "1-900 (1994)                           2.600000            5\n",
      "101 Dalmatians (1996)                  2.908257          109\n",
      "12 Angry Men (1957)                    4.344000          125\n",
      "187 (1997)                             3.024390           41\n",
      "...                                         ...          ...\n",
      "Young Guns II (1990)                   2.772727           44\n",
      "Young Poisoner's Handbook, The (1995)  3.341463           41\n",
      "Zeus and Roxanne (1997)                2.166667            6\n",
      "unknown                                3.444444            9\n",
      "Á köldum klaka (Cold Fever) (1994)     3.000000            1\n",
      "\n",
      "[1664 rows x 2 columns]\n"
     ]
    }
   ],
   "source": [
    "ratings = pd.DataFrame(df.groupby('title')['rating'].mean())\n",
    "ratings['num_ratings'] = df.groupby('title')['rating'].count()\n",
    "\n",
    "print(ratings)"
   ]
  },
  {
   "cell_type": "code",
   "execution_count": 53,
   "id": "7c6be245",
   "metadata": {},
   "outputs": [
    {
     "data": {
      "text/plain": [
       "<seaborn.axisgrid.JointGrid at 0x7fef8e585400>"
      ]
     },
     "execution_count": 53,
     "metadata": {},
     "output_type": "execute_result"
    },
    {
     "data": {
      "image/png": "[encoded data removed]",
      "text/plain": [
       "<Figure size 432x432 with 3 Axes>"
      ]
     },
     "metadata": {
      "needs_background": "light"
     },
     "output_type": "display_data"
    }
   ],
   "source": [
    "sns.jointplot(x = 'rating', y = 'num_ratings', data = ratings, alpha = 0.5)"
   ]
  },
  {
   "cell_type": "code",
   "execution_count": 57,
   "id": "96e1d472",
   "metadata": {},
   "outputs": [
    {
     "name": "stdout",
     "output_type": "stream",
     "text": [
      "title    'Til There Was You (1997)  1-900 (1994)  101 Dalmatians (1996)  \\\n",
      "user_id                                                                   \n",
      "0                              NaN           NaN                    NaN   \n",
      "1                              NaN           NaN                    2.0   \n",
      "2                              NaN           NaN                    NaN   \n",
      "\n",
      "title    12 Angry Men (1957)  187 (1997)  2 Days in the Valley (1996)  \\\n",
      "user_id                                                                 \n",
      "0                        NaN         NaN                          NaN   \n",
      "1                        5.0         NaN                          NaN   \n",
      "2                        NaN         NaN                          NaN   \n",
      "\n",
      "title    20,000 Leagues Under the Sea (1954)  2001: A Space Odyssey (1968)  \\\n",
      "user_id                                                                      \n",
      "0                                        NaN                           NaN   \n",
      "1                                        3.0                           4.0   \n",
      "2                                        NaN                           NaN   \n",
      "\n",
      "title    3 Ninjas: High Noon At Mega Mountain (1998)  39 Steps, The (1935)  \\\n",
      "user_id                                                                      \n",
      "0                                                NaN                   NaN   \n",
      "1                                                NaN                   NaN   \n",
      "2                                                1.0                   NaN   \n",
      "\n",
      "title    ...  Yankee Zulu (1994)  Year of the Horse (1997)  \\\n",
      "user_id  ...                                                 \n",
      "0        ...                 NaN                       NaN   \n",
      "1        ...                 NaN                       NaN   \n",
      "2        ...                 NaN                       NaN   \n",
      "\n",
      "title    You So Crazy (1994)  Young Frankenstein (1974)  Young Guns (1988)  \\\n",
      "user_id                                                                      \n",
      "0                        NaN                        NaN                NaN   \n",
      "1                        NaN                        5.0                3.0   \n",
      "2                        NaN                        NaN                NaN   \n",
      "\n",
      "title    Young Guns II (1990)  Young Poisoner's Handbook, The (1995)  \\\n",
      "user_id                                                                \n",
      "0                         NaN                                    NaN   \n",
      "1                         NaN                                    NaN   \n",
      "2                         NaN                                    NaN   \n",
      "\n",
      "title    Zeus and Roxanne (1997)  unknown  Á köldum klaka (Cold Fever) (1994)  \n",
      "user_id                                                                        \n",
      "0                            NaN      NaN                                 NaN  \n",
      "1                            NaN      4.0                                 NaN  \n",
      "2                            NaN      NaN                                 NaN  \n",
      "\n",
      "[3 rows x 1664 columns]\n"
     ]
    }
   ],
   "source": [
    "movies_pivot = df.pivot_table(index = 'user_id', columns = 'title', values = 'rating')\n",
    "\n",
    "print(movies_pivot.head(3))"
   ]
  },
  {
   "cell_type": "code",
   "execution_count": 58,
   "id": "4d7f235c",
   "metadata": {},
   "outputs": [
    {
     "name": "stdout",
     "output_type": "stream",
     "text": [
      "                                      rating  num_ratings\n",
      "title                                                    \n",
      "Star Wars (1977)                    4.359589          584\n",
      "Contact (1997)                      3.803536          509\n",
      "Fargo (1996)                        4.155512          508\n",
      "Return of the Jedi (1983)           4.007890          507\n",
      "Liar Liar (1997)                    3.156701          485\n",
      "...                                      ...          ...\n",
      "Great Day in Harlem, A (1994)       5.000000            1\n",
      "Other Voices, Other Rooms (1997)    3.000000            1\n",
      "Good Morning (1971)                 1.000000            1\n",
      "Girls Town (1996)                   3.000000            1\n",
      "Á köldum klaka (Cold Fever) (1994)  3.000000            1\n",
      "\n",
      "[1664 rows x 2 columns]\n"
     ]
    }
   ],
   "source": [
    "print(ratings.sort_values('num_ratings', ascending = False))"
   ]
  },
  {
   "cell_type": "code",
   "execution_count": 61,
   "id": "30d3df52",
   "metadata": {},
   "outputs": [
    {
     "name": "stdout",
     "output_type": "stream",
     "text": [
      "user_id\n",
      "0    5.0\n",
      "1    5.0\n",
      "2    5.0\n",
      "3    NaN\n",
      "4    5.0\n",
      "Name: Star Wars (1977), dtype: float64\n"
     ]
    }
   ],
   "source": [
    "star_wars_ratings = movies_pivot['Star Wars (1977)']\n",
    "\n",
    "print(star_wars_ratings.head())"
   ]
  },
  {
   "cell_type": "code",
   "execution_count": 62,
   "id": "a0a31146",
   "metadata": {},
   "outputs": [
    {
     "name": "stdout",
     "output_type": "stream",
     "text": [
      "                           Correlation\n",
      "title                                 \n",
      "'Til There Was You (1997)     0.872872\n",
      "1-900 (1994)                 -0.645497\n",
      "101 Dalmatians (1996)         0.211132\n",
      "12 Angry Men (1957)           0.184289\n",
      "187 (1997)                    0.027398\n"
     ]
    }
   ],
   "source": [
    "corr_with_star_sars = movies_pivot.corrwith(star_wars_ratings)\n",
    "\n",
    "corr_star_wars = pd.DataFrame(corr_with_star_sars, columns = ['Correlation'])\n",
    "corr_star_wars.dropna(inplace = True)\n",
    "print(corr_star_wars.head())"
   ]
  },
  {
   "cell_type": "code",
   "execution_count": 65,
   "id": "57e2d22f",
   "metadata": {},
   "outputs": [
    {
     "name": "stdout",
     "output_type": "stream",
     "text": [
      "                     Correlation\n",
      "title                           \n",
      "Hollow Reed (1996)           1.0\n",
      "Commandments (1997)          1.0\n",
      "Cosi (1996)                  1.0\n",
      "No Escape (1994)             1.0\n",
      "Stripes (1981)               1.0\n"
     ]
    }
   ],
   "source": [
    "print(corr_star_wars.sort_values('Correlation', ascending = False).head())"
   ]
  },
  {
   "cell_type": "code",
   "execution_count": 66,
   "id": "6825748b",
   "metadata": {},
   "outputs": [
    {
     "name": "stdout",
     "output_type": "stream",
     "text": [
      "                           Correlation  num_ratings\n",
      "title                                              \n",
      "'Til There Was You (1997)     0.872872            9\n",
      "1-900 (1994)                 -0.645497            5\n",
      "101 Dalmatians (1996)         0.211132          109\n",
      "12 Angry Men (1957)           0.184289          125\n",
      "187 (1997)                    0.027398           41\n"
     ]
    }
   ],
   "source": [
    "corr_star_wars = corr_star_wars.join(ratings['num_ratings'])\n",
    "\n",
    "print(corr_star_wars.head())"
   ]
  },
  {
   "cell_type": "code",
   "execution_count": 67,
   "id": "18bcbd4f",
   "metadata": {},
   "outputs": [
    {
     "name": "stdout",
     "output_type": "stream",
     "text": [
      "                                                    Correlation  num_ratings\n",
      "title                                                                       \n",
      "Star Wars (1977)                                       1.000000          584\n",
      "Empire Strikes Back, The (1980)                        0.748353          368\n",
      "Return of the Jedi (1983)                              0.672556          507\n",
      "Raiders of the Lost Ark (1981)                         0.536117          420\n",
      "Austin Powers: International Man of Mystery (1997)     0.377433          130\n"
     ]
    }
   ],
   "source": [
    "print(corr_star_wars[corr_star_wars['num_ratings'] > 100].sort_values('Correlation', ascending = False).head())"
   ]
  },
  {
   "cell_type": "markdown",
   "id": "617b3e38",
   "metadata": {},
   "source": [
    "### Now we can difine a function that take (movie title) and return (next recommendation) based on ratings"
   ]
  },
  {
   "cell_type": "code",
   "execution_count": 86,
   "id": "ec2346eb",
   "metadata": {},
   "outputs": [],
   "source": [
    "def Get_Recommendations_rating(title):\n",
    "    movies_pivot = df.pivot_table(index = 'user_id', columns = 'title', values = 'rating')\n",
    "    title_ratings = movies_pivot[title]\n",
    "    title_corr = movies_pivot.corrwith(title_ratings)\n",
    "    \n",
    "    df_corr = pd.DataFrame(title_corr, columns = ['Correlation'])\n",
    "    df_corr = df_corr.join(ratings['num_ratings'])\n",
    "    \n",
    "    return df_corr[df_corr['num_ratings'] > 100].sort_values('Correlation', ascending = False).head()"
   ]
  },
  {
   "cell_type": "code",
   "execution_count": 87,
   "id": "84274bc7",
   "metadata": {},
   "outputs": [
    {
     "data": {
      "text/html": [
       "<div>\n",
       "<style scoped>\n",
       "    .dataframe tbody tr th:only-of-type {\n",
       "        vertical-align: middle;\n",
       "    }\n",
       "\n",
       "    .dataframe tbody tr th {\n",
       "        vertical-align: top;\n",
       "    }\n",
       "\n",
       "    .dataframe thead th {\n",
       "        text-align: right;\n",
       "    }\n",
       "</style>\n",
       "<table border=\"1\" class=\"dataframe\">\n",
       "  <thead>\n",
       "    <tr style=\"text-align: right;\">\n",
       "      <th></th>\n",
       "      <th>Correlation</th>\n",
       "      <th>num_ratings</th>\n",
       "    </tr>\n",
       "    <tr>\n",
       "      <th>title</th>\n",
       "      <th></th>\n",
       "      <th></th>\n",
       "    </tr>\n",
       "  </thead>\n",
       "  <tbody>\n",
       "    <tr>\n",
       "      <th>Star Wars (1977)</th>\n",
       "      <td>1.000000</td>\n",
       "      <td>584</td>\n",
       "    </tr>\n",
       "    <tr>\n",
       "      <th>Empire Strikes Back, The (1980)</th>\n",
       "      <td>0.748353</td>\n",
       "      <td>368</td>\n",
       "    </tr>\n",
       "    <tr>\n",
       "      <th>Return of the Jedi (1983)</th>\n",
       "      <td>0.672556</td>\n",
       "      <td>507</td>\n",
       "    </tr>\n",
       "    <tr>\n",
       "      <th>Raiders of the Lost Ark (1981)</th>\n",
       "      <td>0.536117</td>\n",
       "      <td>420</td>\n",
       "    </tr>\n",
       "    <tr>\n",
       "      <th>Austin Powers: International Man of Mystery (1997)</th>\n",
       "      <td>0.377433</td>\n",
       "      <td>130</td>\n",
       "    </tr>\n",
       "  </tbody>\n",
       "</table>\n",
       "</div>"
      ],
      "text/plain": [
       "                                                    Correlation  num_ratings\n",
       "title                                                                       \n",
       "Star Wars (1977)                                       1.000000          584\n",
       "Empire Strikes Back, The (1980)                        0.748353          368\n",
       "Return of the Jedi (1983)                              0.672556          507\n",
       "Raiders of the Lost Ark (1981)                         0.536117          420\n",
       "Austin Powers: International Man of Mystery (1997)     0.377433          130"
      ]
     },
     "execution_count": 87,
     "metadata": {},
     "output_type": "execute_result"
    }
   ],
   "source": [
    "Get_Recommendations_rating('Star Wars (1977)')"
   ]
  },
  {
   "cell_type": "code",
   "execution_count": 88,
   "id": "5f8330f9",
   "metadata": {},
   "outputs": [
    {
     "data": {
      "text/html": [
       "<div>\n",
       "<style scoped>\n",
       "    .dataframe tbody tr th:only-of-type {\n",
       "        vertical-align: middle;\n",
       "    }\n",
       "\n",
       "    .dataframe tbody tr th {\n",
       "        vertical-align: top;\n",
       "    }\n",
       "\n",
       "    .dataframe thead th {\n",
       "        text-align: right;\n",
       "    }\n",
       "</style>\n",
       "<table border=\"1\" class=\"dataframe\">\n",
       "  <thead>\n",
       "    <tr style=\"text-align: right;\">\n",
       "      <th></th>\n",
       "      <th>Correlation</th>\n",
       "      <th>num_ratings</th>\n",
       "    </tr>\n",
       "    <tr>\n",
       "      <th>title</th>\n",
       "      <th></th>\n",
       "      <th></th>\n",
       "    </tr>\n",
       "  </thead>\n",
       "  <tbody>\n",
       "    <tr>\n",
       "      <th>Liar Liar (1997)</th>\n",
       "      <td>1.000000</td>\n",
       "      <td>485</td>\n",
       "    </tr>\n",
       "    <tr>\n",
       "      <th>Batman Forever (1995)</th>\n",
       "      <td>0.516968</td>\n",
       "      <td>114</td>\n",
       "    </tr>\n",
       "    <tr>\n",
       "      <th>Mask, The (1994)</th>\n",
       "      <td>0.484650</td>\n",
       "      <td>129</td>\n",
       "    </tr>\n",
       "    <tr>\n",
       "      <th>Down Periscope (1996)</th>\n",
       "      <td>0.472681</td>\n",
       "      <td>101</td>\n",
       "    </tr>\n",
       "    <tr>\n",
       "      <th>Con Air (1997)</th>\n",
       "      <td>0.469828</td>\n",
       "      <td>137</td>\n",
       "    </tr>\n",
       "  </tbody>\n",
       "</table>\n",
       "</div>"
      ],
      "text/plain": [
       "                       Correlation  num_ratings\n",
       "title                                          \n",
       "Liar Liar (1997)          1.000000          485\n",
       "Batman Forever (1995)     0.516968          114\n",
       "Mask, The (1994)          0.484650          129\n",
       "Down Periscope (1996)     0.472681          101\n",
       "Con Air (1997)            0.469828          137"
      ]
     },
     "execution_count": 88,
     "metadata": {},
     "output_type": "execute_result"
    }
   ],
   "source": [
    "Get_Recommendations_rating('Liar Liar (1997)')"
   ]
  },
  {
   "cell_type": "code",
   "execution_count": null,
   "id": "cd29bb81",
   "metadata": {},
   "outputs": [],
   "source": []
  }
 ],
 "metadata": {
  "kernelspec": {
   "display_name": "Python 3",
   "language": "python",
   "name": "python3"
  },
  "language_info": {
   "codemirror_mode": {
    "name": "ipython",
    "version": 3
   },
   "file_extension": ".py",
   "mimetype": "text/x-python",
   "name": "python",
   "nbconvert_exporter": "python",
   "pygments_lexer": "ipython3",
   "version": "3.8.10"
  }
 },
 "nbformat": 4,
 "nbformat_minor": 5
}
