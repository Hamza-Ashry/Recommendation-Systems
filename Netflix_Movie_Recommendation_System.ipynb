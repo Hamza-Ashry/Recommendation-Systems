{
 "cells": [
  {
   "cell_type": "code",
   "execution_count": 71,
   "id": "87fb83b3",
   "metadata": {},
   "outputs": [],
   "source": [
    "import pandas as pd \n",
    "import numpy as np \n",
    "import matplotlib.pyplot as plt\n",
    "import seaborn as sns\n",
    "import warnings\n",
    "warnings.filterwarnings('ignore')"
   ]
  },
  {
   "cell_type": "code",
   "execution_count": 72,
   "id": "6a3656a9",
   "metadata": {},
   "outputs": [
    {
     "name": "stdout",
     "output_type": "stream",
     "text": [
      "(24058263, 2)\n"
     ]
    }
   ],
   "source": [
    "df = pd.read_csv(r'C:\\Users\\yahoo net\\Desktop\\DataSets\\netflix_data_1.txt', names = ['Cust_ID','Rating'],\n",
    "                usecols = [0,1])\n",
    "\n",
    "print(df.shape)"
   ]
  },
  {
   "cell_type": "code",
   "execution_count": 73,
   "id": "23c94d4f",
   "metadata": {},
   "outputs": [
    {
     "name": "stdout",
     "output_type": "stream",
     "text": [
      "   Cust_ID  Rating\n",
      "0       1:     NaN\n",
      "1  1488844     3.0\n",
      "2   822109     5.0\n",
      "3   885013     4.0\n",
      "4    30878     4.0\n",
      "5   823519     3.0\n",
      "6   893988     3.0\n",
      "7   124105     4.0\n",
      "8  1248029     3.0\n",
      "9  1842128     4.0\n"
     ]
    }
   ],
   "source": [
    "print(df.head(10))"
   ]
  },
  {
   "cell_type": "code",
   "execution_count": 74,
   "id": "823959ff",
   "metadata": {},
   "outputs": [],
   "source": [
    "df_nan = pd.DataFrame(pd.isnull(df.Rating))\n",
    "df_nan = df_nan[df_nan['Rating'] == True]\n",
    "df_nan = df_nan.reset_index()"
   ]
  },
  {
   "cell_type": "code",
   "execution_count": 75,
   "id": "966215ad",
   "metadata": {},
   "outputs": [
    {
     "name": "stdout",
     "output_type": "stream",
     "text": [
      "(24053764, 3)\n"
     ]
    }
   ],
   "source": [
    "start = 0\n",
    "movie_id = 0\n",
    "indeces = df_nan['index']\n",
    "df['Movie_ID'] = np.zeros(len(df))\n",
    "for i in indeces:\n",
    "    df['Movie_ID'][start:i] = movie_id\n",
    "    movie_id += 1\n",
    "    start = i\n",
    "df['Movie_ID'][df['Movie_ID'] == 0] = movie_id\n",
    "\n",
    "df = df.dropna()\n",
    "\n",
    "df['Cust_ID'] = df['Cust_ID'].astype(int)\n",
    "df['Movie_ID'] = df['Movie_ID'].astype(int)\n",
    "\n",
    "print(df.shape)"
   ]
  },
  {
   "cell_type": "code",
   "execution_count": 76,
   "id": "5a211424",
   "metadata": {},
   "outputs": [
    {
     "name": "stdout",
     "output_type": "stream",
     "text": [
      "          Cust_ID  Rating  Movie_ID\n",
      "1         1488844     3.0         1\n",
      "5000996    501954     2.0       996\n",
      "10001962   404654     5.0      1962\n",
      "15002876   886608     2.0      2876\n",
      "20003825  1193835     2.0      3825\n"
     ]
    }
   ],
   "source": [
    "print(df.iloc[::5000000, :])"
   ]
  },
  {
   "cell_type": "code",
   "execution_count": 77,
   "id": "656c06b0",
   "metadata": {},
   "outputs": [
    {
     "name": "stdout",
     "output_type": "stream",
     "text": [
      "          count      mean\n",
      "Movie_ID                 \n",
      "1           547  3.749543\n",
      "2           145  3.558621\n",
      "3          2012  3.641153\n",
      "4           142  2.739437\n",
      "5          1140  3.919298\n",
      "...         ...       ...\n",
      "4495        614  3.478827\n",
      "4496       9519  3.763000\n",
      "4497        714  2.715686\n",
      "4498        269  2.464684\n",
      "4499        428  2.614486\n",
      "\n",
      "[4499 rows x 2 columns]\n"
     ]
    }
   ],
   "source": [
    "simple_math = ['count','mean']\n",
    "\n",
    "df_movie_summary = df.groupby('Movie_ID')['Rating'].agg(simple_math)\n",
    "print(df_movie_summary)"
   ]
  },
  {
   "cell_type": "code",
   "execution_count": 78,
   "id": "d1e29bba",
   "metadata": {},
   "outputs": [
    {
     "name": "stdout",
     "output_type": "stream",
     "text": [
      "Movie mininum times of reviews: 1799.0\n"
     ]
    }
   ],
   "source": [
    "minimum_movie_reviews = round(df_movie_summary['count'].quantile(0.7),0)\n",
    "drop_movie_list = df_movie_summary[df_movie_summary['count'] < minimum_movie_reviews].index\n",
    "\n",
    "print('Movie mininum times of reviews:', minimum_movie_reviews)"
   ]
  },
  {
   "cell_type": "code",
   "execution_count": 79,
   "id": "022f9da4",
   "metadata": {},
   "outputs": [
    {
     "name": "stdout",
     "output_type": "stream",
     "text": [
      "         count      mean\n",
      "Cust_ID                 \n",
      "6          153  3.333333\n",
      "7          195  4.066667\n",
      "8           21  4.000000\n",
      "10          49  3.346939\n",
      "25           4  3.500000\n",
      "...        ...       ...\n",
      "2649404     12  4.083333\n",
      "2649409     10  4.000000\n",
      "2649421      3  5.000000\n",
      "2649426     74  4.067568\n",
      "2649429     62  4.161290\n",
      "\n",
      "[470758 rows x 2 columns]\n"
     ]
    }
   ],
   "source": [
    "df_cust_summary = df.groupby('Cust_ID')['Rating'].agg(simple_math)\n",
    "print(df_cust_summary)"
   ]
  },
  {
   "cell_type": "code",
   "execution_count": 80,
   "id": "ee281d84",
   "metadata": {},
   "outputs": [
    {
     "name": "stdout",
     "output_type": "stream",
     "text": [
      "52.0\n"
     ]
    }
   ],
   "source": [
    "minimum_cust_reviews = round(df_cust_summary['count'].quantile(0.7),0)\n",
    "drop_cust_list = df_cust_summary[df_cust_summary['count'] < minimum_cust_reviews].index\n",
    "\n",
    "print(minimum_cust_reviews)"
   ]
  },
  {
   "cell_type": "code",
   "execution_count": 81,
   "id": "a5ebf0ff",
   "metadata": {},
   "outputs": [
    {
     "name": "stdout",
     "output_type": "stream",
     "text": [
      "Old Shape: (24053764, 3)\n",
      "Current Shape: (17337458, 3)\n",
      "\n",
      " Data Ex:\n",
      "          Cust_ID  Rating  Movie_ID\n",
      "696        712664     5.0         3\n",
      "6932490   1299309     5.0      1384\n",
      "13860273   400155     3.0      2660\n",
      "20766530   466962     4.0      3923\n"
     ]
    }
   ],
   "source": [
    "print('Old Shape:', df.shape)\n",
    "df = df[~df['Movie_ID'].isin(drop_movie_list)]\n",
    "df = df[~df['Cust_ID'].isin(drop_cust_list)]\n",
    "print('Current Shape:', df.shape)\n",
    "print('\\n Data Ex:')\n",
    "print(df.iloc[::5000000, :])"
   ]
  },
  {
   "cell_type": "code",
   "execution_count": 94,
   "id": "565cb22e",
   "metadata": {},
   "outputs": [
    {
     "name": "stdout",
     "output_type": "stream",
     "text": [
      "(17761, 3)\n"
     ]
    }
   ],
   "source": [
    "titles = pd.read_csv(r'C:\\Users\\yahoo net\\Desktop\\DataSets\\netflix_movie_titles.csv',\n",
    "                     names = ['Movie_ID', 'Year', 'Movie_Name'])\n",
    "titles = titles.dropna()\n",
    "titles['Movie_ID'] = titles['Movie_ID'].astype(int)\n",
    "print(titles.shape)"
   ]
  },
  {
   "cell_type": "code",
   "execution_count": 95,
   "id": "fb8f35d7",
   "metadata": {},
   "outputs": [
    {
     "name": "stdout",
     "output_type": "stream",
     "text": [
      "   Movie_ID    Year                    Movie_Name\n",
      "0         1  2003.0               Dinosaur Planet\n",
      "1         2  2004.0    Isle of Man TT 2004 Review\n",
      "2         3  1997.0                     Character\n",
      "3         4  1994.0  Paula Abdul's Get Up & Dance\n",
      "4         5  2004.0      The Rise and Fall of ECW\n",
      "5         6  1997.0                          Sick\n",
      "6         7  1992.0                         8 Man\n",
      "7         8  2004.0    What the #$*! Do We Know!?\n",
      "8         9  1991.0      Class of Nuke 'Em High 2\n",
      "9        10  2001.0                       Fighter\n"
     ]
    }
   ],
   "source": [
    "print(titles.head(10))"
   ]
  },
  {
   "cell_type": "code",
   "execution_count": 15,
   "id": "05e26c3f",
   "metadata": {},
   "outputs": [
    {
     "data": {
      "text/plain": [
       "{'test_rmse': array([0.9942647 , 1.00178707, 0.98933732, 1.00218281, 0.99935089]),\n",
       " 'test_mae': array([0.80305265, 0.81097946, 0.79987314, 0.80990471, 0.79272972]),\n",
       " 'fit_time': (4.920754432678223,\n",
       "  4.311481714248657,\n",
       "  4.342724561691284,\n",
       "  4.436438083648682,\n",
       "  4.467660665512085),\n",
       " 'test_time': (0.1874556541442871,\n",
       "  0.09372711181640625,\n",
       "  0.18746042251586914,\n",
       "  0.18746185302734375,\n",
       "  0.10934925079345703)}"
      ]
     },
     "execution_count": 15,
     "metadata": {},
     "output_type": "execute_result"
    }
   ],
   "source": [
    "from surprise import Reader, Dataset, SVD\n",
    "from surprise.model_selection import cross_validate\n",
    "\n",
    "reader = Reader()\n",
    "\n",
    "# get first 100000 rows to minimize time.\n",
    "data = Dataset.load_from_df(df[['Cust_ID', 'Movie_ID', 'Rating']][0:100000], reader)\n",
    "\n",
    "svd = SVD()\n",
    "cross_validate(svd, data, measures=['RMSE', 'MAE'])"
   ]
  },
  {
   "cell_type": "code",
   "execution_count": 42,
   "id": "ccae0cf9",
   "metadata": {},
   "outputs": [
    {
     "name": "stdout",
     "output_type": "stream",
     "text": [
      "    Cust_ID  Movie_ID                                         Movie_Name\n",
      "0    785314        57                                        Richard III\n",
      "1    785314       175                                     Reservoir Dogs\n",
      "2    785314       311                                            Ed Wood\n",
      "3    785314       329                                              Dogma\n",
      "4    785314       331                                        Chasing Amy\n",
      "5    785314       395                                      Captain Blood\n",
      "6    785314       788                                             Clerks\n",
      "7    785314       798                                               Jaws\n",
      "8    785314       907                                    Animal Crackers\n",
      "9    785314       985                                          The Mummy\n",
      "10   785314      1552                                        Black Adder\n",
      "11   785314      1905  Pirates of the Caribbean: The Curse of the Bla...\n",
      "12   785314      2000                        Four Weddings and a Funeral\n",
      "13   785314      2122                               Being John Malkovich\n",
      "14   785314      2342                                      Super Size Me\n",
      "15   785314      2360                                Singin' in the Rain\n",
      "16   785314      2430                         Alien: Collector's Edition\n",
      "17   785314      2443                           Like Water for Chocolate\n",
      "18   785314      2452      Lord of the Rings: The Fellowship of the Ring\n",
      "19   785314      2465                                 This Is Spinal Tap\n",
      "20   785314      2554                      The Rocky Horror Picture Show\n",
      "21   785314      2847                                  The Mark of Zorro\n",
      "22   785314      2848                                        The Hustler\n",
      "23   785314      2862                           The Silence of the Lambs\n",
      "24   785314      3150                   Monty Python: The Life of Python\n",
      "25   785314      3168                          Evil Dead 2: Dead by Dawn\n",
      "26   785314      3198                                  The Addams Family\n",
      "27   785314      3315                                 The Maltese Falcon\n",
      "28   785314      3446                                      Spirited Away\n",
      "29   785314      3489                                       Time Bandits\n",
      "30   785314      3590                            Jason and the Argonauts\n",
      "31   785314      3648          Who Framed Roger Rabbit?: Special Edition\n",
      "32   785314      3798                                          The Sting\n",
      "33   785314      3935                                   Yellow Submarine\n",
      "34   785314      3949      Terminator 2: Extreme Edition: Bonus Material\n",
      "35   785314      3962                          Finding Nemo (Widescreen)\n",
      "36   785314      3984                                       On the Beach\n",
      "37   785314      4080                                      A Mighty Wind\n",
      "38   785314      4227                                     The Full Monty\n",
      "39   785314      4253                           Kind Hearts and Coronets\n",
      "40   785314      4306                                    The Sixth Sense\n",
      "41   785314      4345                              Bowling for Columbine\n",
      "42   785314      4356                                  Road to Perdition\n",
      "43   785314      4392                                   Army of Darkness\n",
      "44   785314      4454                               To Have and Have Not\n"
     ]
    }
   ],
   "source": [
    "cust = df[(df['Cust_ID'] == 785314) & (df['Rating'] == 5)]\n",
    "cust = cust.dropna()\n",
    "cust['Movie_ID'] = cust['Movie_ID'].astype(int)\n",
    "cust = cust.merge(titles, on = 'Movie_ID')\n",
    "\n",
    "print(cust[['Cust_ID','Movie_ID','Movie_Name']])\n",
    "\n",
    "cust = cust[['Movie_ID','Movie_Name']]\n",
    "cust = cust[~cust['Movie_ID'].isin(drop_movie_list)]\n",
    "temp = cust"
   ]
  },
  {
   "cell_type": "code",
   "execution_count": 17,
   "id": "c72ae819",
   "metadata": {},
   "outputs": [
    {
     "data": {
      "text/plain": [
       "<surprise.prediction_algorithms.matrix_factorization.SVD at 0x251815259f0>"
      ]
     },
     "execution_count": 17,
     "metadata": {},
     "output_type": "execute_result"
    }
   ],
   "source": [
    "data = Dataset.load_from_df(df[['Cust_ID', 'Movie_ID', 'Rating']], reader)\n",
    "\n",
    "train_set = data.build_full_trainset()\n",
    "svd.fit(train_set)"
   ]
  },
  {
   "cell_type": "code",
   "execution_count": 47,
   "id": "f80fae9c",
   "metadata": {},
   "outputs": [],
   "source": [
    "def Recommendation_Cust_ID(cust_id):\n",
    "    global cust\n",
    "    cust['Estimate_Score'] = cust['Movie_ID'].apply(lambda x: svd.predict(cust_id, x).est)\n",
    "    cust = cust.drop(['Movie_ID'], axis = 1)\n",
    "\n",
    "    cust = cust.sort_values('Estimate_Score', ascending = False)\n",
    "    final = cust\n",
    "    final = final.reset_index()\n",
    "    cust = temp\n",
    "    return final.head(10)"
   ]
  },
  {
   "cell_type": "code",
   "execution_count": 48,
   "id": "42f286af",
   "metadata": {},
   "outputs": [
    {
     "data": {
      "text/html": [
       "<div>\n",
       "<style scoped>\n",
       "    .dataframe tbody tr th:only-of-type {\n",
       "        vertical-align: middle;\n",
       "    }\n",
       "\n",
       "    .dataframe tbody tr th {\n",
       "        vertical-align: top;\n",
       "    }\n",
       "\n",
       "    .dataframe thead th {\n",
       "        text-align: right;\n",
       "    }\n",
       "</style>\n",
       "<table border=\"1\" class=\"dataframe\">\n",
       "  <thead>\n",
       "    <tr style=\"text-align: right;\">\n",
       "      <th></th>\n",
       "      <th>index</th>\n",
       "      <th>Movie_Name</th>\n",
       "      <th>Estimate_Score</th>\n",
       "    </tr>\n",
       "  </thead>\n",
       "  <tbody>\n",
       "    <tr>\n",
       "      <th>0</th>\n",
       "      <td>43</td>\n",
       "      <td>Army of Darkness</td>\n",
       "      <td>4.929957</td>\n",
       "    </tr>\n",
       "    <tr>\n",
       "      <th>1</th>\n",
       "      <td>25</td>\n",
       "      <td>Evil Dead 2: Dead by Dawn</td>\n",
       "      <td>4.883672</td>\n",
       "    </tr>\n",
       "    <tr>\n",
       "      <th>2</th>\n",
       "      <td>10</td>\n",
       "      <td>Black Adder</td>\n",
       "      <td>4.845161</td>\n",
       "    </tr>\n",
       "    <tr>\n",
       "      <th>3</th>\n",
       "      <td>24</td>\n",
       "      <td>Monty Python: The Life of Python</td>\n",
       "      <td>4.814268</td>\n",
       "    </tr>\n",
       "    <tr>\n",
       "      <th>4</th>\n",
       "      <td>8</td>\n",
       "      <td>Animal Crackers</td>\n",
       "      <td>4.627970</td>\n",
       "    </tr>\n",
       "    <tr>\n",
       "      <th>5</th>\n",
       "      <td>34</td>\n",
       "      <td>Terminator 2: Extreme Edition: Bonus Material</td>\n",
       "      <td>4.530050</td>\n",
       "    </tr>\n",
       "    <tr>\n",
       "      <th>6</th>\n",
       "      <td>19</td>\n",
       "      <td>This Is Spinal Tap</td>\n",
       "      <td>4.477518</td>\n",
       "    </tr>\n",
       "    <tr>\n",
       "      <th>7</th>\n",
       "      <td>28</td>\n",
       "      <td>Spirited Away</td>\n",
       "      <td>4.448709</td>\n",
       "    </tr>\n",
       "    <tr>\n",
       "      <th>8</th>\n",
       "      <td>5</td>\n",
       "      <td>Captain Blood</td>\n",
       "      <td>4.443658</td>\n",
       "    </tr>\n",
       "    <tr>\n",
       "      <th>9</th>\n",
       "      <td>1</td>\n",
       "      <td>Reservoir Dogs</td>\n",
       "      <td>4.404526</td>\n",
       "    </tr>\n",
       "  </tbody>\n",
       "</table>\n",
       "</div>"
      ],
      "text/plain": [
       "   index                                     Movie_Name  Estimate_Score\n",
       "0     43                               Army of Darkness        4.929957\n",
       "1     25                      Evil Dead 2: Dead by Dawn        4.883672\n",
       "2     10                                    Black Adder        4.845161\n",
       "3     24               Monty Python: The Life of Python        4.814268\n",
       "4      8                                Animal Crackers        4.627970\n",
       "5     34  Terminator 2: Extreme Edition: Bonus Material        4.530050\n",
       "6     19                             This Is Spinal Tap        4.477518\n",
       "7     28                                  Spirited Away        4.448709\n",
       "8      5                                  Captain Blood        4.443658\n",
       "9      1                                 Reservoir Dogs        4.404526"
      ]
     },
     "execution_count": 48,
     "metadata": {},
     "output_type": "execute_result"
    }
   ],
   "source": [
    "Recommendation_Cust_ID(785314)"
   ]
  },
  {
   "cell_type": "code",
   "execution_count": 49,
   "id": "0b3ef474",
   "metadata": {},
   "outputs": [
    {
     "data": {
      "text/html": [
       "<div>\n",
       "<style scoped>\n",
       "    .dataframe tbody tr th:only-of-type {\n",
       "        vertical-align: middle;\n",
       "    }\n",
       "\n",
       "    .dataframe tbody tr th {\n",
       "        vertical-align: top;\n",
       "    }\n",
       "\n",
       "    .dataframe thead th {\n",
       "        text-align: right;\n",
       "    }\n",
       "</style>\n",
       "<table border=\"1\" class=\"dataframe\">\n",
       "  <thead>\n",
       "    <tr style=\"text-align: right;\">\n",
       "      <th></th>\n",
       "      <th>index</th>\n",
       "      <th>Movie_Name</th>\n",
       "      <th>Estimate_Score</th>\n",
       "    </tr>\n",
       "  </thead>\n",
       "  <tbody>\n",
       "    <tr>\n",
       "      <th>0</th>\n",
       "      <td>35</td>\n",
       "      <td>Finding Nemo (Widescreen)</td>\n",
       "      <td>4.316222</td>\n",
       "    </tr>\n",
       "    <tr>\n",
       "      <th>1</th>\n",
       "      <td>18</td>\n",
       "      <td>Lord of the Rings: The Fellowship of the Ring</td>\n",
       "      <td>4.292432</td>\n",
       "    </tr>\n",
       "    <tr>\n",
       "      <th>2</th>\n",
       "      <td>23</td>\n",
       "      <td>The Silence of the Lambs</td>\n",
       "      <td>4.174110</td>\n",
       "    </tr>\n",
       "    <tr>\n",
       "      <th>3</th>\n",
       "      <td>32</td>\n",
       "      <td>The Sting</td>\n",
       "      <td>4.162566</td>\n",
       "    </tr>\n",
       "    <tr>\n",
       "      <th>4</th>\n",
       "      <td>40</td>\n",
       "      <td>The Sixth Sense</td>\n",
       "      <td>4.139118</td>\n",
       "    </tr>\n",
       "    <tr>\n",
       "      <th>5</th>\n",
       "      <td>28</td>\n",
       "      <td>Spirited Away</td>\n",
       "      <td>4.132371</td>\n",
       "    </tr>\n",
       "    <tr>\n",
       "      <th>6</th>\n",
       "      <td>11</td>\n",
       "      <td>Pirates of the Caribbean: The Curse of the Bla...</td>\n",
       "      <td>4.125807</td>\n",
       "    </tr>\n",
       "    <tr>\n",
       "      <th>7</th>\n",
       "      <td>1</td>\n",
       "      <td>Reservoir Dogs</td>\n",
       "      <td>4.117151</td>\n",
       "    </tr>\n",
       "    <tr>\n",
       "      <th>8</th>\n",
       "      <td>15</td>\n",
       "      <td>Singin' in the Rain</td>\n",
       "      <td>4.076795</td>\n",
       "    </tr>\n",
       "    <tr>\n",
       "      <th>9</th>\n",
       "      <td>44</td>\n",
       "      <td>To Have and Have Not</td>\n",
       "      <td>4.037314</td>\n",
       "    </tr>\n",
       "  </tbody>\n",
       "</table>\n",
       "</div>"
      ],
      "text/plain": [
       "   index                                         Movie_Name  Estimate_Score\n",
       "0     35                          Finding Nemo (Widescreen)        4.316222\n",
       "1     18      Lord of the Rings: The Fellowship of the Ring        4.292432\n",
       "2     23                           The Silence of the Lambs        4.174110\n",
       "3     32                                          The Sting        4.162566\n",
       "4     40                                    The Sixth Sense        4.139118\n",
       "5     28                                      Spirited Away        4.132371\n",
       "6     11  Pirates of the Caribbean: The Curse of the Bla...        4.125807\n",
       "7      1                                     Reservoir Dogs        4.117151\n",
       "8     15                                Singin' in the Rain        4.076795\n",
       "9     44                               To Have and Have Not        4.037314"
      ]
     },
     "execution_count": 49,
     "metadata": {},
     "output_type": "execute_result"
    }
   ],
   "source": [
    "Recommendation_Cust_ID(125489)"
   ]
  },
  {
   "cell_type": "code",
   "execution_count": 50,
   "id": "a068f4a1",
   "metadata": {},
   "outputs": [
    {
     "data": {
      "text/html": [
       "<div>\n",
       "<style scoped>\n",
       "    .dataframe tbody tr th:only-of-type {\n",
       "        vertical-align: middle;\n",
       "    }\n",
       "\n",
       "    .dataframe tbody tr th {\n",
       "        vertical-align: top;\n",
       "    }\n",
       "\n",
       "    .dataframe thead th {\n",
       "        text-align: right;\n",
       "    }\n",
       "</style>\n",
       "<table border=\"1\" class=\"dataframe\">\n",
       "  <thead>\n",
       "    <tr style=\"text-align: right;\">\n",
       "      <th></th>\n",
       "      <th>index</th>\n",
       "      <th>Movie_Name</th>\n",
       "      <th>Estimate_Score</th>\n",
       "    </tr>\n",
       "  </thead>\n",
       "  <tbody>\n",
       "    <tr>\n",
       "      <th>0</th>\n",
       "      <td>35</td>\n",
       "      <td>Finding Nemo (Widescreen)</td>\n",
       "      <td>4.316222</td>\n",
       "    </tr>\n",
       "    <tr>\n",
       "      <th>1</th>\n",
       "      <td>18</td>\n",
       "      <td>Lord of the Rings: The Fellowship of the Ring</td>\n",
       "      <td>4.292432</td>\n",
       "    </tr>\n",
       "    <tr>\n",
       "      <th>2</th>\n",
       "      <td>23</td>\n",
       "      <td>The Silence of the Lambs</td>\n",
       "      <td>4.174110</td>\n",
       "    </tr>\n",
       "    <tr>\n",
       "      <th>3</th>\n",
       "      <td>32</td>\n",
       "      <td>The Sting</td>\n",
       "      <td>4.162566</td>\n",
       "    </tr>\n",
       "    <tr>\n",
       "      <th>4</th>\n",
       "      <td>40</td>\n",
       "      <td>The Sixth Sense</td>\n",
       "      <td>4.139118</td>\n",
       "    </tr>\n",
       "    <tr>\n",
       "      <th>5</th>\n",
       "      <td>28</td>\n",
       "      <td>Spirited Away</td>\n",
       "      <td>4.132371</td>\n",
       "    </tr>\n",
       "    <tr>\n",
       "      <th>6</th>\n",
       "      <td>11</td>\n",
       "      <td>Pirates of the Caribbean: The Curse of the Bla...</td>\n",
       "      <td>4.125807</td>\n",
       "    </tr>\n",
       "    <tr>\n",
       "      <th>7</th>\n",
       "      <td>1</td>\n",
       "      <td>Reservoir Dogs</td>\n",
       "      <td>4.117151</td>\n",
       "    </tr>\n",
       "    <tr>\n",
       "      <th>8</th>\n",
       "      <td>15</td>\n",
       "      <td>Singin' in the Rain</td>\n",
       "      <td>4.076795</td>\n",
       "    </tr>\n",
       "    <tr>\n",
       "      <th>9</th>\n",
       "      <td>44</td>\n",
       "      <td>To Have and Have Not</td>\n",
       "      <td>4.037314</td>\n",
       "    </tr>\n",
       "  </tbody>\n",
       "</table>\n",
       "</div>"
      ],
      "text/plain": [
       "   index                                         Movie_Name  Estimate_Score\n",
       "0     35                          Finding Nemo (Widescreen)        4.316222\n",
       "1     18      Lord of the Rings: The Fellowship of the Ring        4.292432\n",
       "2     23                           The Silence of the Lambs        4.174110\n",
       "3     32                                          The Sting        4.162566\n",
       "4     40                                    The Sixth Sense        4.139118\n",
       "5     28                                      Spirited Away        4.132371\n",
       "6     11  Pirates of the Caribbean: The Curse of the Bla...        4.125807\n",
       "7      1                                     Reservoir Dogs        4.117151\n",
       "8     15                                Singin' in the Rain        4.076795\n",
       "9     44                               To Have and Have Not        4.037314"
      ]
     },
     "execution_count": 50,
     "metadata": {},
     "output_type": "execute_result"
    }
   ],
   "source": [
    "Recommendation_Cust_ID(856974)"
   ]
  },
  {
   "cell_type": "code",
   "execution_count": 108,
   "id": "ef8735cd",
   "metadata": {},
   "outputs": [
    {
     "name": "stdout",
     "output_type": "stream",
     "text": [
      "(143458, 1350)\n"
     ]
    }
   ],
   "source": [
    "df_p = pd.pivot_table(full_df, index = 'Cust_ID', columns = 'Movie_ID', values = 'Rating')\n",
    "\n",
    "\n",
    "print(df_p.shape)"
   ]
  },
  {
   "cell_type": "code",
   "execution_count": 109,
   "id": "ff317e27",
   "metadata": {},
   "outputs": [],
   "source": [
    "def Recommendation_Movies(movie_name, min_count):\n",
    "    index = int(titles.index[titles['Movie_Name'] == movie_name][0])\n",
    "    target = df_p[index]\n",
    "    similar_to_target = df_p.corrwith(target)\n",
    "    corr_with_target = pd.DataFrame(similar_to_target, columns = ['Correlation'])\n",
    "    corr_with_target.dropna(inplace = True)\n",
    "    corr_with_target = corr_with_target.sort_values('Correlation', ascending = False)\n",
    "#     corr_with_target.index = corr_with_target.index.map(int)\n",
    "    corr_with_target = corr_with_target.join(titles).join(df_movie_summary)[['Correlation', 'Movie_Name', 'count']]\n",
    "    print(corr_with_target[corr_with_target['count'] > min_count][:10])"
   ]
  },
  {
   "cell_type": "code",
   "execution_count": 110,
   "id": "761d014f",
   "metadata": {},
   "outputs": [
    {
     "name": "stdout",
     "output_type": "stream",
     "text": [
      "          Correlation                          Movie_Name  count\n",
      "Movie_ID                                                        \n",
      "3926         1.000000           Without a Trace: Season 1  13359\n",
      "3775         0.408262         In the Mirror of Maya Deren   1987\n",
      "4092         0.396701  Daydream Obsession 2: Infidelities   2226\n",
      "341          0.385631                                Noir   1862\n",
      "297          0.384641      Crunch: Pick Your Spot Pilates   1956\n",
      "4173         0.377569               Don't Drink the Water   1984\n",
      "1089         0.370469                                 Eel   2083\n",
      "1455         0.370263                  Nina Takes a Lover   3859\n",
      "488          0.368137                  Return to Paradise   3247\n",
      "2988         0.353877        The Thing From Another World   3234\n"
     ]
    }
   ],
   "source": [
    "Recommendation_Movies(\"Without a Trace: Season 1\", 0)"
   ]
  },
  {
   "cell_type": "code",
   "execution_count": 112,
   "id": "516daafa",
   "metadata": {},
   "outputs": [
    {
     "name": "stdout",
     "output_type": "stream",
     "text": [
      "          Correlation                                         Movie_Name  \\\n",
      "Movie_ID                                                                   \n",
      "488          1.000000                                 Return to Paradise   \n",
      "4238         0.783164                                          Maitresse   \n",
      "1766         0.764925                      The Gold Rush: Bonus Material   \n",
      "1607         0.741386  Silverlake Life: The View From Here: 10th Anni...   \n",
      "3927         0.738947                                 Nip/Tuck: Season 2   \n",
      "3593         0.734872                            The Old Man and the Sea   \n",
      "2405         0.716314                         A Touch of Frost: Season 2   \n",
      "2019         0.715837                                   The Winds of War   \n",
      "774          0.706759                Man Ray: Prophet of the Avant Garde   \n",
      "180          0.702771                                      The Last Shot   \n",
      "\n",
      "          count  \n",
      "Movie_ID         \n",
      "488        3247  \n",
      "4238       1883  \n",
      "1766       2327  \n",
      "1607       2983  \n",
      "3927       2124  \n",
      "3593       5197  \n",
      "2405       1891  \n",
      "2019       2000  \n",
      "774        2475  \n",
      "180        2418  \n"
     ]
    }
   ],
   "source": [
    "Recommendation_Movies(\"Return to Paradise\", 0)"
   ]
  },
  {
   "cell_type": "code",
   "execution_count": 114,
   "id": "cc7f748a",
   "metadata": {},
   "outputs": [
    {
     "name": "stdout",
     "output_type": "stream",
     "text": [
      "          Correlation                        Movie_Name  count\n",
      "Movie_ID                                                      \n",
      "56           1.000000                       Richard III   1833\n",
      "575          0.853486                 Popular: Season 2   2122\n",
      "2568         0.778990                Washington Heights   1812\n",
      "371          0.770824                             Jeans   2004\n",
      "477          0.769802           The Beverly Hillbillies   2241\n",
      "1179         0.768520                  A Beautiful Mind   1913\n",
      "104          0.768228                          Obsessed   3500\n",
      "579          0.753169         THX 1138: Special Edition   2047\n",
      "4383         0.737642                  Dawn of the Dead   4051\n",
      "3229         0.733387  The Best of the Red Skelton Show   1938\n"
     ]
    }
   ],
   "source": [
    "Recommendation_Movies(\"Richard III\", 0)"
   ]
  },
  {
   "cell_type": "code",
   "execution_count": null,
   "id": "0ee61a4f",
   "metadata": {},
   "outputs": [],
   "source": []
  }
 ],
 "metadata": {
  "kernelspec": {
   "display_name": "Python 3 (ipykernel)",
   "language": "python",
   "name": "python3"
  },
  "language_info": {
   "codemirror_mode": {
    "name": "ipython",
    "version": 3
   },
   "file_extension": ".py",
   "mimetype": "text/x-python",
   "name": "python",
   "nbconvert_exporter": "python",
   "pygments_lexer": "ipython3",
   "version": "3.10.4"
  }
 },
 "nbformat": 4,
 "nbformat_minor": 5
}
